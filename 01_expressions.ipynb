{
  "nbformat": 4,
  "nbformat_minor": 0,
  "metadata": {
    "colab": {
      "provenance": [],
      "authorship_tag": "ABX9TyPG8fqRzpgX4qK6OCDGBslH",
      "include_colab_link": true
    },
    "kernelspec": {
      "name": "python3",
      "display_name": "Python 3"
    },
    "language_info": {
      "name": "python"
    }
  },
  "cells": [
    {
      "cell_type": "markdown",
      "metadata": {
        "id": "view-in-github",
        "colab_type": "text"
      },
      "source": [
        "<a href=\"https://colab.research.google.com/github/Afsheen-imran/Python-Assignment-4/blob/main/01_expressions.ipynb\" target=\"_parent\"><img src=\"https://colab.research.google.com/assets/colab-badge.svg\" alt=\"Open In Colab\"/></a>"
      ]
    },
    {
      "cell_type": "code",
      "execution_count": 6,
      "metadata": {
        "colab": {
          "base_uri": "https://localhost:8080/"
        },
        "id": "mglNsFgpM0d4",
        "outputId": "bbd6cac2-8d1d-4988-830d-f0dba6b2d574"
      },
      "outputs": [
        {
          "output_type": "stream",
          "name": "stdout",
          "text": [
            "die1 in main() starts as: 10\n",
            "Die 1: 2, Die 2: 2 -> Total: 4\n",
            "Die 1: 5, Die 2: 3 -> Total: 8\n",
            "Die 1: 5, Die 2: 4 -> Total: 9\n",
            "die1 in main() is still: 10\n"
          ]
        }
      ],
      "source": [
        "# (01_dicesimulator)\n",
        "\"\"\"\n",
        "Program: Dice Simulator\n",
        "-----------------------\n",
        "Simulate rolling two dice, three times. Prints\n",
        "the results of each die roll. This program is used\n",
        "to show how variable scope works.\n",
        "\"\"\"\n",
        "\n",
        "import random\n",
        "\n",
        "\n",
        "\n",
        "def roll_dice():\n",
        "    \"\"\"\n",
        "    Simulates rolling two dice and prints their values and total.\n",
        "    Demonstrates local variable scope.\n",
        "    \"\"\"\n",
        "    die1: int = random.randint(1,6)\n",
        "    die2: int = random.randint(1,6)\n",
        "    total: int = die1 + die2\n",
        "    print(f\"Die 1: {die1}, Die 2: {die2} -> Total: {total}\")\n",
        "\n",
        "def main():\n",
        "\n",
        "    die1: int = 10\n",
        "    print(\"die1 in main() starts as:\", die1)\n",
        "\n",
        "    # Roll the dice three times\n",
        "    roll_dice()\n",
        "    roll_dice()\n",
        "    roll_dice()\n",
        "\n",
        "    # Show that die1 in main is unchanged\n",
        "    print(\"die1 in main() is still:\", die1)\n",
        "\n",
        "# This calls the main() function when the script is run\n",
        "if __name__ == '__main__':\n",
        "    main()\n",
        "\n",
        "\n"
      ]
    },
    {
      "cell_type": "code",
      "source": [
        "# (02_e=mc2)\n",
        "\n",
        "def energy():\n",
        "    C = 299792458  # Speed of light in m/s\n",
        "    m = float(input(\"Enter kilos of mass: \"))  # Input mass in kilograms\n",
        "\n",
        "    # Calculate energy using the formula E = m * C^2\n",
        "    E = m * C**2\n",
        "\n",
        "    # Output the result\n",
        "    print(f\"E = {m} kg * {C} m/s^2 = {E} joules of energy!\")\n",
        "\n",
        "\n",
        "if __name__ == '__main__':\n",
        "    energy()"
      ],
      "metadata": {
        "colab": {
          "base_uri": "https://localhost:8080/"
        },
        "id": "Ebh6jXxdR3gJ",
        "outputId": "f60afc10-33d9-4c78-c046-e164b526136b"
      },
      "execution_count": 9,
      "outputs": [
        {
          "output_type": "stream",
          "name": "stdout",
          "text": [
            "Enter kilos of mass: 90\n",
            "E = 90.0 kg * 299792458 m/s^2 = 8.088796608631358e+18 joules of energy!\n"
          ]
        }
      ]
    },
    {
      "cell_type": "code",
      "source": [
        "# (03_feet_to_inches)\n",
        "\n",
        "INCHES_IN_FOOT: int = 12\n",
        "\n",
        "def main():\n",
        "    feet: float = float(input(\"Enter number of feet: \"))\n",
        "    inches: float = feet * INCHES_IN_FOOT\n",
        "    print(f\"That is {inches} inches!\")\n",
        "\n",
        "\n",
        "\n",
        "if __name__ == '__main__':\n",
        "    main()\n"
      ],
      "metadata": {
        "colab": {
          "base_uri": "https://localhost:8080/"
        },
        "id": "1czGbhvsl_go",
        "outputId": "86d77f34-57c2-48da-9d32-f6a2ad1ac95c"
      },
      "execution_count": 11,
      "outputs": [
        {
          "output_type": "stream",
          "name": "stdout",
          "text": [
            "Enter number of feet: 9\n",
            "That is 108.0 inches!\n"
          ]
        }
      ]
    },
    {
      "cell_type": "code",
      "source": [
        "# (04_pythagorean_theorem)\n",
        "\n",
        "import math\n",
        "\n",
        "def main():\n",
        "\n",
        "    ab: float = float(input(\"Enter the length of AB: \"))\n",
        "    ac: float = float(input(\"Enter the length of AC: \"))\n",
        "\n",
        "    # Calculate the hypotenuse using the two sides and print it out\n",
        "    bc: float = math.sqrt(ab**2 + ac**2)\n",
        "    print(f\"The length of BC (the hypotenuse) is: {bc}\")\n",
        "\n",
        "\n",
        "# This provided line is required at the end of a Python file to call the main() function.\n",
        "if __name__ == '__main__':\n",
        "    main()\n"
      ],
      "metadata": {
        "colab": {
          "base_uri": "https://localhost:8080/"
        },
        "id": "mBeW8sMunw-G",
        "outputId": "bf07b8aa-5d11-40b6-d7cd-88c520924325"
      },
      "execution_count": 14,
      "outputs": [
        {
          "output_type": "stream",
          "name": "stdout",
          "text": [
            "Enter the length of AB: 4.8\n",
            "Enter the length of AC: 5.6\n",
            "The length of BC (the hypotenuse) is: 7.375635565834309\n"
          ]
        }
      ]
    },
    {
      "cell_type": "code",
      "source": [
        "# (05_remainder_division)\n",
        "\n",
        "def main():\n",
        "    # Get the numbers we want to divide\n",
        "    dividend: int = int(input(\"Please enter an integer to be divided: \"))\n",
        "    divisor: int = int(input(\"Please enter an integer to divide by: \"))\n",
        "\n",
        "    # Calculate the quotient (result of division) and remainder (modulo)\n",
        "    quotient: int = dividend // divisor  # Integer division\n",
        "    remainder: int = dividend % divisor  # Remainder (modulo)\n",
        "\n",
        "    # Output the result\n",
        "    print(f\"The result of this division is {quotient} with a remainder of {remainder}\")\n",
        "\n",
        "\n",
        "# This provided line is required at the end of a Python file to call the main() function.\n",
        "if __name__ == '__main__':\n",
        "    main()\n"
      ],
      "metadata": {
        "colab": {
          "base_uri": "https://localhost:8080/"
        },
        "id": "CHtld65nowON",
        "outputId": "7b5a0b96-b7ed-4560-8a90-35f46f742bc5"
      },
      "execution_count": 15,
      "outputs": [
        {
          "output_type": "stream",
          "name": "stdout",
          "text": [
            "Please enter an integer to be divided: 8\n",
            "Please enter an integer to divide by: 5\n",
            "The result of this division is 1 with a remainder of 3\n"
          ]
        }
      ]
    },
    {
      "cell_type": "code",
      "source": [
        "# (06_rolldice)\n",
        "\n",
        "\n",
        "import random\n",
        "\n",
        "\n",
        "def main():\n",
        "    # Roll two dice, each generating a random number between 1 and 6 (inclusive)\n",
        "    die1: int = random.randint(1, 6)\n",
        "    die2: int = random.randint(1, 6)\n",
        "\n",
        "    # Calculate the total of both dice\n",
        "    total: int = die1 + die2\n",
        "\n",
        "    # Print out the results of the dice rolls and the total\n",
        "    print(f\"Dice have {6} sides each.\")\n",
        "    print(f\"First die: {die1}\")\n",
        "    print(f\"Second die: {die2}\")\n",
        "    print(f\"Total of two dice: {total}\")\n",
        "\n",
        "\n",
        "# This provided line is required at the end of the Python file to call the main() function.\n",
        "if __name__ == '__main__':\n",
        "    main()\n"
      ],
      "metadata": {
        "colab": {
          "base_uri": "https://localhost:8080/"
        },
        "id": "1xJq8BPUpnk4",
        "outputId": "f048ae8f-b890-4a29-d75a-54d84bb3c0b8"
      },
      "execution_count": 17,
      "outputs": [
        {
          "output_type": "stream",
          "name": "stdout",
          "text": [
            "Dice have 6 sides each.\n",
            "First die: 4\n",
            "Second die: 6\n",
            "Total of two dice: 10\n"
          ]
        }
      ]
    },
    {
      "cell_type": "code",
      "source": [
        "# (06_seconds_in_year)\n",
        "\n",
        "\n",
        "DAYS_PER_YEAR: int = 365\n",
        "HOURS_PER_DAY: int = 24\n",
        "MIN_PER_HOUR: int = 60\n",
        "SEC_PER_MIN: int = 60\n",
        "\n",
        "def seconds():\n",
        "    # Calculate the number of seconds in a year\n",
        "    seconds_in_year: int = DAYS_PER_YEAR * HOURS_PER_DAY * MIN_PER_HOUR * SEC_PER_MIN\n",
        "    # Print the result in a nice statement\n",
        "    print(f\"There are {seconds_in_year} seconds in a year!\")\n",
        "\n",
        "# This provided line is required at the end of the Python file to call the main() function.\n",
        "if __name__ == '__main__':\n",
        "    seconds()\n",
        "\n"
      ],
      "metadata": {
        "colab": {
          "base_uri": "https://localhost:8080/"
        },
        "id": "KWQORh03qi7k",
        "outputId": "df8acc18-280a-46ec-b367-bff5f426b91c"
      },
      "execution_count": 19,
      "outputs": [
        {
          "output_type": "stream",
          "name": "stdout",
          "text": [
            "There are 31536000 seconds in a year!\n"
          ]
        }
      ]
    },
    {
      "cell_type": "code",
      "source": [
        "# (07_tiny_mad_lib)\n",
        "\n",
        "\n",
        "SENTENCE_START: str = \"Panaversity is fun. I learned to program and used Python to make my \"\n",
        "\n",
        "def tiny():\n",
        "\n",
        "    adjective: str = input(\"Please type an adjective and press enter. \")\n",
        "    noun: str = input(\"Please type a noun and press enter. \")\n",
        "    verb: str = input(\"Please type a verb and press enter. \")\n",
        "\n",
        "    # Combine the inputs with the sentence start and print the final sentence\n",
        "    print(SENTENCE_START + adjective + \" \" + noun + \" \" + verb + \"!\")\n",
        "\n",
        "# This provided line is required at the end of the Python file to call the main() function.\n",
        "if __name__ == '__main__':\n",
        "    tiny()\n"
      ],
      "metadata": {
        "colab": {
          "base_uri": "https://localhost:8080/"
        },
        "id": "Vc351sFTrUOM",
        "outputId": "ec288d55-d73b-4ab9-f174-0e97229d4f3a"
      },
      "execution_count": 21,
      "outputs": [
        {
          "output_type": "stream",
          "name": "stdout",
          "text": [
            "Please type an adjective and press enter. fabulous\n",
            "Please type a noun and press enter. madlib\n",
            "Please type a verb and press enter. app\n",
            "Panaversity is fun. I learned to program and used Python to make my fabulous madlib app!\n"
          ]
        }
      ]
    }
  ]
}