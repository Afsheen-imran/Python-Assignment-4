{
  "nbformat": 4,
  "nbformat_minor": 0,
  "metadata": {
    "colab": {
      "provenance": [],
      "toc_visible": true,
      "mount_file_id": "1PI1sLEbInnGov8sdupG4xKwUKlWb2hvD",
      "authorship_tag": "ABX9TyNvjUAJ/6lCOdJiE8OX9ss3",
      "include_colab_link": true
    },
    "kernelspec": {
      "name": "python3",
      "display_name": "Python 3"
    },
    "language_info": {
      "name": "python"
    }
  },
  "cells": [
    {
      "cell_type": "markdown",
      "metadata": {
        "id": "view-in-github",
        "colab_type": "text"
      },
      "source": [
        "<a href=\"https://colab.research.google.com/github/Afsheen-imran/Python-Assignment-4/blob/main/00_intro_python.ipynb\" target=\"_parent\"><img src=\"https://colab.research.google.com/assets/colab-badge.svg\" alt=\"Open In Colab\"/></a>"
      ]
    },
    {
      "cell_type": "code",
      "execution_count": null,
      "metadata": {
        "colab": {
          "base_uri": "https://localhost:8080/"
        },
        "id": "7XaBncabxg0t",
        "outputId": "3d4bde21-1910-4fc2-d719-cae57aa4f56d"
      },
      "outputs": [
        {
          "output_type": "stream",
          "name": "stdout",
          "text": [
            "01_add_two_numbers\n",
            "This application is for adding two numbers\n",
            "Enter first number: 78\n",
            "Enter second number: 4\n",
            "The total sum of 78 and 4 is 82\n",
            "Thank you for using this application\n"
          ]
        }
      ],
      "source": [
        "def main():\n",
        "    print(\"01_add_two_numbers\")\n",
        "    print(\"This application is for adding two numbers\")\n",
        "\n",
        "    first_number = int(input(\"Enter first number: \"))\n",
        "    second_number = int(input(\"Enter second number: \"))\n",
        "\n",
        "    total = first_number + second_number\n",
        "    print(f\"The total sum of {first_number} and {second_number} is {total}\")\n",
        "\n",
        "    print(\"Thank you for using this application\")\n",
        "\n",
        "if __name__ == '__main__':\n",
        "    main()\n",
        "\n"
      ]
    },
    {
      "cell_type": "markdown",
      "source": [
        "# New Section"
      ],
      "metadata": {
        "id": "DL6ZqBNhYAKN"
      }
    },
    {
      "cell_type": "code",
      "source": [
        "def bot():\n",
        "    print(\"02_agreement_bot\")\n",
        "    animal = str(input(\"What is your favorite animal? \"))\n",
        "    print(f\"My favorite animal is also {animal}.\")\n",
        "    print(\"Thank you for using this application!\")\n",
        "\n",
        "if __name__ == '__main__':\n",
        "    bot()\n"
      ],
      "metadata": {
        "colab": {
          "base_uri": "https://localhost:8080/"
        },
        "id": "ynT8pi-MBQnn",
        "outputId": "fa62416d-88a5-46a7-8a5e-d62b9ceae467"
      },
      "execution_count": null,
      "outputs": [
        {
          "output_type": "stream",
          "name": "stdout",
          "text": [
            "02_agreement_bot\n",
            "What is your favorite animal? cat\n",
            "My favorite animal is also cat.\n",
            "Thank you for using this application!\n"
          ]
        }
      ]
    },
    {
      "cell_type": "code",
      "source": [
        "def fahrenheit_to_celsius():\n",
        "    print(\"03_fahrenheit_to_celsius\")\n",
        "    # Prompt user for temperature in Fahrenheit\n",
        "    degrees_fahrenheit = float(input(\"Enter temperature in Fahrenheit: \"))\n",
        "\n",
        "    # Convert Fahrenheit to Celsius\n",
        "    degrees_celsius = (degrees_fahrenheit - 32) * 5.0 / 9.0\n",
        "\n",
        "    # Display the result\n",
        "    print(f\"Temperature: {degrees_fahrenheit}F = {degrees_celsius}C\")\n",
        "\n",
        "if __name__ == '__main__':\n",
        "    fahrenheit_to_celsius()\n"
      ],
      "metadata": {
        "colab": {
          "base_uri": "https://localhost:8080/"
        },
        "id": "EGbEgnRtEwh5",
        "outputId": "f5750284-96af-4704-f7f4-87d56f056bc8"
      },
      "execution_count": null,
      "outputs": [
        {
          "output_type": "stream",
          "name": "stdout",
          "text": [
            "03_fahrenheit_to_celsius\n",
            "Enter temperature in Fahrenheit: 98\n",
            "Temperature: 98.0F = 36.666666666666664C\n"
          ]
        }
      ]
    },
    {
      "cell_type": "code",
      "source": [
        "def age_riddle():\n",
        "    print(\"04_how_old_are_they\")\n",
        "    Anton = 21\n",
        "\n",
        "    # Calculating the ages based on given conditions\n",
        "    Beth = Anton + 6\n",
        "    Chen = Beth + 20\n",
        "    Drew = Chen + Anton\n",
        "    Ethan = Chen\n",
        "\n",
        "    # Printing the results\n",
        "    print(f\"Anton is {Anton}\")\n",
        "    print(f\"Beth is {Beth}\")\n",
        "    print(f\"Chen is {Chen}\")\n",
        "    print(f\"Drew is {Drew}\")\n",
        "    print(f\"Ethan is {Ethan}\")\n",
        "\n",
        "if __name__ == '__main__':\n",
        "    age_riddle()\n"
      ],
      "metadata": {
        "colab": {
          "base_uri": "https://localhost:8080/"
        },
        "id": "79yc0vsHFrAy",
        "outputId": "8799c317-1a69-491e-9ddd-9bf41eb08215"
      },
      "execution_count": null,
      "outputs": [
        {
          "output_type": "stream",
          "name": "stdout",
          "text": [
            "04_how_old_are_they\n",
            "Anton is 21\n",
            "Beth is 27\n",
            "Chen is 47\n",
            "Drew is 68\n",
            "Ethan is 47\n"
          ]
        }
      ]
    },
    {
      "cell_type": "code",
      "source": [
        "def triangle_perimeter():\n",
        "    print(\"05_triangle_perimeter\")\n",
        "    side1 = float(input(\"What is the length of side 1? \"))\n",
        "    side2 = float(input(\"What is the length of side 2? \"))\n",
        "    side3 = float(input(\"What is the length of side 3? \"))\n",
        "\n",
        "    # Calculate the perimeter\n",
        "    perimeter = side1 + side2 + side3\n",
        "\n",
        "    # Print the result\n",
        "    print(f\"The perimeter of the triangle is {perimeter}\")\n",
        "\n",
        "if __name__ == '__main__':\n",
        "    triangle_perimeter()\n"
      ],
      "metadata": {
        "colab": {
          "base_uri": "https://localhost:8080/"
        },
        "id": "33CtLeATLwq6",
        "outputId": "efbedb86-c5c2-4049-9fac-f8f1eed7cd04"
      },
      "execution_count": null,
      "outputs": [
        {
          "output_type": "stream",
          "name": "stdout",
          "text": [
            "05_triangle_perimeter\n",
            "What is the length of side 1? 6\n",
            "What is the length of side 2? 7\n",
            "What is the length of side 3? 8\n",
            "The perimeter of the triangle is 21.0\n"
          ]
        }
      ]
    },
    {
      "cell_type": "code",
      "source": [
        "def square_number():\n",
        "    print(\"06_square_number\")\n",
        "    number = float(input(\"Type a number to see its square: \"))\n",
        "\n",
        "    # Calculate the square of the number\n",
        "    square = number * number\n",
        "\n",
        "    # Print the result\n",
        "    print(f\"{number} squared is {square}\")\n",
        "\n",
        "if __name__ == '__main__':\n",
        "    square_number()\n",
        "\n"
      ],
      "metadata": {
        "colab": {
          "base_uri": "https://localhost:8080/"
        },
        "id": "OZC6u2jpMN3n",
        "outputId": "1206d0d5-feef-4b39-ba53-6f1d5b2cbe20"
      },
      "execution_count": null,
      "outputs": [
        {
          "output_type": "stream",
          "name": "stdout",
          "text": [
            "06_square_number\n",
            "Type a number to see its square: 7\n",
            "7.0 squared is 49.0\n"
          ]
        }
      ]
    },
    {
      "cell_type": "code",
      "source": [],
      "metadata": {
        "id": "x9cAER2OM2oo"
      },
      "execution_count": null,
      "outputs": []
    }
  ]
}